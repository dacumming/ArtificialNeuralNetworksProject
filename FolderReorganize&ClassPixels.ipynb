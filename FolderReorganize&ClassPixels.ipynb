{
 "cells": [
  {
   "cell_type": "code",
   "execution_count": 3,
   "metadata": {},
   "outputs": [],
   "source": [
    "import os\n",
    "from shutil import copy\n",
    "from PIL import Image\n",
    "import numpy as np\n",
    "from read_mask_example import read_rgb_mask\n",
    "cwd = os.getcwd()\n",
    "raw_data_dir=os.path.join(cwd, 'Development_Dataset/Training')\n",
    "data_dir = os.path.join(cwd, 'train_data')\n",
    "if not os.path.exists(data_dir):\n",
    "    os.makedirs(data_dir)\n",
    "images_dir = os.path.join(data_dir, 'images/img')\n",
    "if not os.path.exists(images_dir):\n",
    "    os.makedirs(images_dir)\n",
    "masks_dir = os.path.join(data_dir, 'masks/img')\n",
    "if not os.path.exists(masks_dir):\n",
    "    os.makedirs(masks_dir)"
   ]
  },
  {
   "cell_type": "code",
   "execution_count": 4,
   "metadata": {},
   "outputs": [],
   "source": [
    "for path, subdirs, files in os.walk(raw_data_dir):\n",
    "    for name in files:\n",
    "        path_dir=os.path.join(path, name)\n",
    "        if os.path.basename(path.strip('\\\\'))==\"Images\":\n",
    "            copy(path_dir, images_dir)\n",
    "        elif os.path.basename(path.strip('\\\\'))==\"Masks\":\n",
    "            copy(path_dir, masks_dir)"
   ]
  },
  {
   "cell_type": "code",
   "execution_count": 4,
   "metadata": {},
   "outputs": [],
   "source": [
    "masks_filenames = next(os.walk(masks_dir))[2]\n",
    "class_0=0\n",
    "class_1=0\n",
    "class_2=0\n",
    "total=0\n",
    "for mask_name in masks_filenames:\n",
    "    img = read_rgb_mask(os.path.join(masks_dir, mask_name))\n",
    "    counts=np.transpose(np.unique(img, return_counts=True))\n",
    "    for cts in counts:\n",
    "        exec('class_'+str(cts[0])+'+=cts[1]')\n",
    "    total+=np.sum(counts[:,1])"
   ]
  },
  {
   "cell_type": "code",
   "execution_count": 5,
   "metadata": {},
   "outputs": [
    {
     "name": "stdout",
     "output_type": "stream",
     "text": [
      "0.9197983896212486\n",
      "0.05344419218029939\n",
      "0.02675741819845196\n",
      "1.0\n"
     ]
    }
   ],
   "source": [
    "print(class_0/total)\n",
    "print(class_1/total)\n",
    "print(class_2/total)\n",
    "print((class_0+class_1+class_2)/total)"
   ]
  },
  {
   "cell_type": "code",
   "execution_count": 8,
   "metadata": {},
   "outputs": [
    {
     "name": "stdout",
     "output_type": "stream",
     "text": [
      "17.210446113924142\n",
      "34.3754536704316\n"
     ]
    }
   ],
   "source": [
    "print(class_0/class_1)\n",
    "print(class_0/class_2)"
   ]
  },
  {
   "cell_type": "code",
   "execution_count": null,
   "metadata": {},
   "outputs": [],
   "source": []
  }
 ],
 "metadata": {
  "kernelspec": {
   "display_name": "Python 3",
   "language": "python",
   "name": "python3"
  },
  "language_info": {
   "codemirror_mode": {
    "name": "ipython",
    "version": 3
   },
   "file_extension": ".py",
   "mimetype": "text/x-python",
   "name": "python",
   "nbconvert_exporter": "python",
   "pygments_lexer": "ipython3",
   "version": "3.7.3"
  },
  "varInspector": {
   "cols": {
    "lenName": 16,
    "lenType": 16,
    "lenVar": 40
   },
   "kernels_config": {
    "python": {
     "delete_cmd_postfix": "",
     "delete_cmd_prefix": "del ",
     "library": "var_list.py",
     "varRefreshCmd": "print(var_dic_list())"
    },
    "r": {
     "delete_cmd_postfix": ") ",
     "delete_cmd_prefix": "rm(",
     "library": "var_list.r",
     "varRefreshCmd": "cat(var_dic_list()) "
    }
   },
   "types_to_exclude": [
    "module",
    "function",
    "builtin_function_or_method",
    "instance",
    "_Feature"
   ],
   "window_display": false
  }
 },
 "nbformat": 4,
 "nbformat_minor": 4
}
