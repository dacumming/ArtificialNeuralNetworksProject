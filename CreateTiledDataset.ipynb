{
 "cells": [
  {
   "cell_type": "code",
   "execution_count": 84,
   "metadata": {},
   "outputs": [],
   "source": [
    "import os\n",
    "from shutil import copy\n",
    "from PIL import Image\n",
    "import numpy as np\n",
    "os.chdir('C:\\\\Users\\\\asus\\\\PycharmProjects\\\\ANN')\n",
    "cwd = os.getcwd()\n",
    "full_data_dir = os.path.join(cwd, 'train_data')\n",
    "data_dir = os.path.join(cwd, 'tiled_train_data')\n",
    "if not os.path.exists(data_dir):\n",
    "    os.makedirs(data_dir)\n",
    "images_dir = os.path.join(data_dir, 'images\\\\img')\n",
    "if not os.path.exists(images_dir):\n",
    "    os.makedirs(images_dir)\n",
    "masks_dir = os.path.join(data_dir, 'masks\\\\img')\n",
    "if not os.path.exists(masks_dir):\n",
    "    os.makedirs(masks_dir)"
   ]
  },
  {
   "cell_type": "code",
   "execution_count": 85,
   "metadata": {},
   "outputs": [],
   "source": [
    "img_shape = (1536,2048)\n",
    "vt=3\n",
    "ht=4\n",
    "tile_size = (512, 512)\n",
    "offset = (512, 512)\n",
    "for path, subdirs, files in os.walk(full_data_dir):\n",
    "    for name in files:\n",
    "        path_dir=os.path.join(path, name)\n",
    "        img = cv2.imread(path_dir)\n",
    "        img_shape=img.shape[:2]\n",
    "        tile_size=(math.ceil(img_shape[0]/vt),math.ceil(img_shape[1]/ht))\n",
    "        offset=tile_size\n",
    "        for i in range(int(math.ceil(img_shape[0]/(offset[0] * 1.0)))):\n",
    "            for j in range(int(math.ceil(img_shape[1]/(offset[1] * 1.0)))):\n",
    "                cropped_img = img[offset[0]*i:min(offset[0]*i+tile_size[0], img_shape[0]), offset[1]*j:min(offset[1]*j+tile_size[1], img_shape[1])]\n",
    "                # Debugging the tiles\n",
    "                if os.path.basename(os.path.dirname(os.path.dirname(path_dir)))==\"images\":\n",
    "                    os.chdir(images_dir) \n",
    "                    cv2.imwrite(name[:-4]+\"_\" + str(i) + \"_\" + str(j) + name[-4:], cropped_img)\n",
    "                elif os.path.basename(os.path.dirname(os.path.dirname(path_dir)))==\"masks\":\n",
    "                    os.chdir(masks_dir) \n",
    "                    cv2.imwrite(name[:-4]+\"_\" + str(i) + \"_\" + str(j) + name[-4:], cropped_img)\n"
   ]
  },
  {
   "cell_type": "code",
   "execution_count": 87,
   "metadata": {},
   "outputs": [],
   "source": [
    "os.chdir('C:\\\\Users\\\\asus\\\\PycharmProjects\\\\ANN')"
   ]
  }
 ],
 "metadata": {
  "kernelspec": {
   "display_name": "Python 3",
   "language": "python",
   "name": "python3"
  },
  "language_info": {
   "codemirror_mode": {
    "name": "ipython",
    "version": 3
   },
   "file_extension": ".py",
   "mimetype": "text/x-python",
   "name": "python",
   "nbconvert_exporter": "python",
   "pygments_lexer": "ipython3",
   "version": "3.7.3"
  },
  "varInspector": {
   "cols": {
    "lenName": 16,
    "lenType": 16,
    "lenVar": 40
   },
   "kernels_config": {
    "python": {
     "delete_cmd_postfix": "",
     "delete_cmd_prefix": "del ",
     "library": "var_list.py",
     "varRefreshCmd": "print(var_dic_list())"
    },
    "r": {
     "delete_cmd_postfix": ") ",
     "delete_cmd_prefix": "rm(",
     "library": "var_list.r",
     "varRefreshCmd": "cat(var_dic_list()) "
    }
   },
   "types_to_exclude": [
    "module",
    "function",
    "builtin_function_or_method",
    "instance",
    "_Feature"
   ],
   "window_display": false
  }
 },
 "nbformat": 4,
 "nbformat_minor": 2
}
